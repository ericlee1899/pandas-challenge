{
 "cells": [
  {
   "cell_type": "code",
   "execution_count": 38,
   "metadata": {},
   "outputs": [],
   "source": [
    "#importing modules\n",
    "import pandas as pd\n",
    "\n",
    "#loading csv\n",
    "file = \"Resources/purchase_data.csv\"\n",
    "\n",
    "#reading and storing \n",
    "df = pd.read_csv(file)\n",
    "#purchase_data.tail() to make sure it works"
   ]
  },
  {
   "cell_type": "code",
   "execution_count": 37,
   "metadata": {},
   "outputs": [
    {
     "data": {
      "text/html": [
       "<div>\n",
       "<style scoped>\n",
       "    .dataframe tbody tr th:only-of-type {\n",
       "        vertical-align: middle;\n",
       "    }\n",
       "\n",
       "    .dataframe tbody tr th {\n",
       "        vertical-align: top;\n",
       "    }\n",
       "\n",
       "    .dataframe thead th {\n",
       "        text-align: right;\n",
       "    }\n",
       "</style>\n",
       "<table border=\"1\" class=\"dataframe\">\n",
       "  <thead>\n",
       "    <tr style=\"text-align: right;\">\n",
       "      <th></th>\n",
       "      <th>Total Players</th>\n",
       "    </tr>\n",
       "  </thead>\n",
       "  <tbody>\n",
       "    <tr>\n",
       "      <th>0</th>\n",
       "      <td>576</td>\n",
       "    </tr>\n",
       "  </tbody>\n",
       "</table>\n",
       "</div>"
      ],
      "text/plain": [
       "   Total Players\n",
       "0            576"
      ]
     },
     "execution_count": 37,
     "metadata": {},
     "output_type": "execute_result"
    }
   ],
   "source": [
    "#player count\n",
    "playercount = len(df[\"SN\"].value_counts())\n",
    "playercountdf = pd.DataFrame({\"Total Players\":[playercount]})\n",
    "playercountdf"
   ]
  },
  {
   "cell_type": "code",
   "execution_count": 36,
   "metadata": {},
   "outputs": [
    {
     "data": {
      "text/html": [
       "<style  type=\"text/css\" >\n",
       "</style><table id=\"T_4fd28be1_117a_11eb_83d1_e454e825714e\" ><thead>    <tr>        <th class=\"blank level0\" ></th>        <th class=\"col_heading level0 col0\" >Number of Unique Items</th>        <th class=\"col_heading level0 col1\" >Average Price</th>        <th class=\"col_heading level0 col2\" >Number of Purchases</th>        <th class=\"col_heading level0 col3\" >Total Revenue</th>    </tr></thead><tbody>\n",
       "                <tr>\n",
       "                        <th id=\"T_4fd28be1_117a_11eb_83d1_e454e825714elevel0_row0\" class=\"row_heading level0 row0\" >0</th>\n",
       "                        <td id=\"T_4fd28be1_117a_11eb_83d1_e454e825714erow0_col0\" class=\"data row0 col0\" >179</td>\n",
       "                        <td id=\"T_4fd28be1_117a_11eb_83d1_e454e825714erow0_col1\" class=\"data row0 col1\" >$3.05</td>\n",
       "                        <td id=\"T_4fd28be1_117a_11eb_83d1_e454e825714erow0_col2\" class=\"data row0 col2\" >780</td>\n",
       "                        <td id=\"T_4fd28be1_117a_11eb_83d1_e454e825714erow0_col3\" class=\"data row0 col3\" >$2,379.77</td>\n",
       "            </tr>\n",
       "    </tbody></table>"
      ],
      "text/plain": [
       "<pandas.io.formats.style.Styler at 0x1d1853d69d0>"
      ]
     },
     "execution_count": 36,
     "metadata": {},
     "output_type": "execute_result"
    }
   ],
   "source": [
    "#purchasing analysis (total)\n",
    "uniqueitem = len(df[\"Item ID\"].value_counts())\n",
    "averageprice = df[\"Price\"].mean()\n",
    "numberpurchase = len(df[\"Purchase ID\"].value_counts())\n",
    "totalrevenue = df[\"Price\"].sum()\n",
    "totalanalysisdf = pd.DataFrame({\"Number of Unique Items\":[uniqueitem],\n",
    "                                \"Average Price\":[averageprice],\n",
    "                                \"Number of Purchases\":[numberpurchase],\n",
    "                                \"Total Revenue\":[totalrevenue]})\n",
    "totalanalysisdf.style.format({\"Average Price\":\"${:,.2f}\",\"Total Revenue\": \"${:,.2f}\"})"
   ]
  },
  {
   "cell_type": "code",
   "execution_count": null,
   "metadata": {},
   "outputs": [],
   "source": [
    "#gender demographics\n"
   ]
  }
 ],
 "metadata": {
  "kernelspec": {
   "display_name": "Python 3",
   "language": "python",
   "name": "python3"
  },
  "language_info": {
   "codemirror_mode": {
    "name": "ipython",
    "version": 3
   },
   "file_extension": ".py",
   "mimetype": "text/x-python",
   "name": "python",
   "nbconvert_exporter": "python",
   "pygments_lexer": "ipython3",
   "version": "3.8.3"
  }
 },
 "nbformat": 4,
 "nbformat_minor": 4
}
