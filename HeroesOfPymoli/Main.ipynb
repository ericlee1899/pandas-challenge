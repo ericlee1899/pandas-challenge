{
 "cells": [
  {
   "cell_type": "code",
   "execution_count": 33,
   "metadata": {},
   "outputs": [],
   "source": [
    "#importing modules\n",
    "import pandas as pd\n",
    "\n",
    "#loading csv\n",
    "file = \"Resources/purchase_data.csv\"\n",
    "\n",
    "#reading and storing \n",
    "df = pd.read_csv(file)\n",
    "#df.tail() to make sure it works"
   ]
  },
  {
   "cell_type": "code",
   "execution_count": 34,
   "metadata": {},
   "outputs": [
    {
     "data": {
      "text/html": [
       "<div>\n",
       "<style scoped>\n",
       "    .dataframe tbody tr th:only-of-type {\n",
       "        vertical-align: middle;\n",
       "    }\n",
       "\n",
       "    .dataframe tbody tr th {\n",
       "        vertical-align: top;\n",
       "    }\n",
       "\n",
       "    .dataframe thead th {\n",
       "        text-align: right;\n",
       "    }\n",
       "</style>\n",
       "<table border=\"1\" class=\"dataframe\">\n",
       "  <thead>\n",
       "    <tr style=\"text-align: right;\">\n",
       "      <th></th>\n",
       "      <th>Total Players</th>\n",
       "    </tr>\n",
       "  </thead>\n",
       "  <tbody>\n",
       "    <tr>\n",
       "      <th>0</th>\n",
       "      <td>576</td>\n",
       "    </tr>\n",
       "  </tbody>\n",
       "</table>\n",
       "</div>"
      ],
      "text/plain": [
       "   Total Players\n",
       "0            576"
      ]
     },
     "execution_count": 34,
     "metadata": {},
     "output_type": "execute_result"
    }
   ],
   "source": [
    "#player count\n",
    "playercount = len(df[\"SN\"].value_counts())\n",
    "playercountdf = pd.DataFrame({\"Total Players\":[playercount]})\n",
    "playercountdf"
   ]
  },
  {
   "cell_type": "code",
   "execution_count": 35,
   "metadata": {},
   "outputs": [
    {
     "data": {
      "text/html": [
       "<style  type=\"text/css\" >\n",
       "</style><table id=\"T_b6f2dcec_1293_11eb_b160_e454e825714e\" ><thead>    <tr>        <th class=\"blank level0\" ></th>        <th class=\"col_heading level0 col0\" >Number of Unique Items</th>        <th class=\"col_heading level0 col1\" >Average Price</th>        <th class=\"col_heading level0 col2\" >Number of Purchases</th>        <th class=\"col_heading level0 col3\" >Total Revenue</th>    </tr></thead><tbody>\n",
       "                <tr>\n",
       "                        <th id=\"T_b6f2dcec_1293_11eb_b160_e454e825714elevel0_row0\" class=\"row_heading level0 row0\" >0</th>\n",
       "                        <td id=\"T_b6f2dcec_1293_11eb_b160_e454e825714erow0_col0\" class=\"data row0 col0\" >179</td>\n",
       "                        <td id=\"T_b6f2dcec_1293_11eb_b160_e454e825714erow0_col1\" class=\"data row0 col1\" >$3.05</td>\n",
       "                        <td id=\"T_b6f2dcec_1293_11eb_b160_e454e825714erow0_col2\" class=\"data row0 col2\" >780</td>\n",
       "                        <td id=\"T_b6f2dcec_1293_11eb_b160_e454e825714erow0_col3\" class=\"data row0 col3\" >$2,379.77</td>\n",
       "            </tr>\n",
       "    </tbody></table>"
      ],
      "text/plain": [
       "<pandas.io.formats.style.Styler at 0x2515f667400>"
      ]
     },
     "execution_count": 35,
     "metadata": {},
     "output_type": "execute_result"
    }
   ],
   "source": [
    "#purchasing analysis (total)\n",
    "uniqueitem = len(df[\"Item ID\"].value_counts())\n",
    "averageprice = df[\"Price\"].mean()\n",
    "numberpurchase = len(df[\"Purchase ID\"].value_counts())\n",
    "totalrevenue = df[\"Price\"].sum()\n",
    "totalanalysisdf = pd.DataFrame({\"Number of Unique Items\":[uniqueitem], \n",
    "                                \"Average Price\":[averageprice], \n",
    "                                \"Number of Purchases\":[numberpurchase], \n",
    "                                \"Total Revenue\":[totalrevenue]})\n",
    "totalanalysisdf.style.format({\"Average Price\":\"${:.2f}\",\n",
    "                              \"Total Revenue\": \"${:,.2f}\"})"
   ]
  },
  {
   "cell_type": "code",
   "execution_count": 19,
   "metadata": {},
   "outputs": [
    {
     "data": {
      "text/html": [
       "<style  type=\"text/css\" >\n",
       "</style><table id=\"T_247eecd4_1289_11eb_9c21_e454e825714e\" ><thead>    <tr>        <th class=\"blank level0\" ></th>        <th class=\"col_heading level0 col0\" >Total Count</th>        <th class=\"col_heading level0 col1\" >Percentage of Players</th>    </tr></thead><tbody>\n",
       "                <tr>\n",
       "                        <th id=\"T_247eecd4_1289_11eb_9c21_e454e825714elevel0_row0\" class=\"row_heading level0 row0\" >Male</th>\n",
       "                        <td id=\"T_247eecd4_1289_11eb_9c21_e454e825714erow0_col0\" class=\"data row0 col0\" >484</td>\n",
       "                        <td id=\"T_247eecd4_1289_11eb_9c21_e454e825714erow0_col1\" class=\"data row0 col1\" >84.03%</td>\n",
       "            </tr>\n",
       "            <tr>\n",
       "                        <th id=\"T_247eecd4_1289_11eb_9c21_e454e825714elevel0_row1\" class=\"row_heading level0 row1\" >Female</th>\n",
       "                        <td id=\"T_247eecd4_1289_11eb_9c21_e454e825714erow1_col0\" class=\"data row1 col0\" >81</td>\n",
       "                        <td id=\"T_247eecd4_1289_11eb_9c21_e454e825714erow1_col1\" class=\"data row1 col1\" >14.06%</td>\n",
       "            </tr>\n",
       "            <tr>\n",
       "                        <th id=\"T_247eecd4_1289_11eb_9c21_e454e825714elevel0_row2\" class=\"row_heading level0 row2\" >Other / Non-Disclosed</th>\n",
       "                        <td id=\"T_247eecd4_1289_11eb_9c21_e454e825714erow2_col0\" class=\"data row2 col0\" >11</td>\n",
       "                        <td id=\"T_247eecd4_1289_11eb_9c21_e454e825714erow2_col1\" class=\"data row2 col1\" >1.91%</td>\n",
       "            </tr>\n",
       "    </tbody></table>"
      ],
      "text/plain": [
       "<pandas.io.formats.style.Styler at 0x251612cee50>"
      ]
     },
     "execution_count": 19,
     "metadata": {},
     "output_type": "execute_result"
    }
   ],
   "source": [
    "#gender demographics\n",
    "gender = df.groupby(\"Gender\")\n",
    "gendercount = gender.nunique()[\"SN\"]\n",
    "genderpercent = gendercount / playercount *100\n",
    "genderdf = pd.DataFrame({\"Total Count\":gendercount,\n",
    "                         \"Percentage of Players\":genderpercent})\n",
    "genderdf.index.name = None\n",
    "genderdf.sort_values([\"Total Count\"],ascending = False).style.format({\"Percentage of Players\":\"{:.2f}%\"})"
   ]
  },
  {
   "cell_type": "code",
   "execution_count": 36,
   "metadata": {},
   "outputs": [
    {
     "data": {
      "text/html": [
       "<style  type=\"text/css\" >\n",
       "</style><table id=\"T_b80c2f33_1293_11eb_ab1a_e454e825714e\" ><thead>    <tr>        <th class=\"blank level0\" ></th>        <th class=\"col_heading level0 col0\" >Purchase Count</th>        <th class=\"col_heading level0 col1\" >Average Purchase Price</th>        <th class=\"col_heading level0 col2\" >Total Purchase Value</th>        <th class=\"col_heading level0 col3\" >Avg Total Purchase per Person</th>    </tr></thead><tbody>\n",
       "                <tr>\n",
       "                        <th id=\"T_b80c2f33_1293_11eb_ab1a_e454e825714elevel0_row0\" class=\"row_heading level0 row0\" >Female</th>\n",
       "                        <td id=\"T_b80c2f33_1293_11eb_ab1a_e454e825714erow0_col0\" class=\"data row0 col0\" >113</td>\n",
       "                        <td id=\"T_b80c2f33_1293_11eb_ab1a_e454e825714erow0_col1\" class=\"data row0 col1\" >$3.20</td>\n",
       "                        <td id=\"T_b80c2f33_1293_11eb_ab1a_e454e825714erow0_col2\" class=\"data row0 col2\" >$361.94</td>\n",
       "                        <td id=\"T_b80c2f33_1293_11eb_ab1a_e454e825714erow0_col3\" class=\"data row0 col3\" >$4.47</td>\n",
       "            </tr>\n",
       "            <tr>\n",
       "                        <th id=\"T_b80c2f33_1293_11eb_ab1a_e454e825714elevel0_row1\" class=\"row_heading level0 row1\" >Male</th>\n",
       "                        <td id=\"T_b80c2f33_1293_11eb_ab1a_e454e825714erow1_col0\" class=\"data row1 col0\" >652</td>\n",
       "                        <td id=\"T_b80c2f33_1293_11eb_ab1a_e454e825714erow1_col1\" class=\"data row1 col1\" >$3.02</td>\n",
       "                        <td id=\"T_b80c2f33_1293_11eb_ab1a_e454e825714erow1_col2\" class=\"data row1 col2\" >$1,967.64</td>\n",
       "                        <td id=\"T_b80c2f33_1293_11eb_ab1a_e454e825714erow1_col3\" class=\"data row1 col3\" >$4.07</td>\n",
       "            </tr>\n",
       "            <tr>\n",
       "                        <th id=\"T_b80c2f33_1293_11eb_ab1a_e454e825714elevel0_row2\" class=\"row_heading level0 row2\" >Other / Non-Disclosed</th>\n",
       "                        <td id=\"T_b80c2f33_1293_11eb_ab1a_e454e825714erow2_col0\" class=\"data row2 col0\" >15</td>\n",
       "                        <td id=\"T_b80c2f33_1293_11eb_ab1a_e454e825714erow2_col1\" class=\"data row2 col1\" >$3.35</td>\n",
       "                        <td id=\"T_b80c2f33_1293_11eb_ab1a_e454e825714erow2_col2\" class=\"data row2 col2\" >$50.19</td>\n",
       "                        <td id=\"T_b80c2f33_1293_11eb_ab1a_e454e825714erow2_col3\" class=\"data row2 col3\" >$4.56</td>\n",
       "            </tr>\n",
       "    </tbody></table>"
      ],
      "text/plain": [
       "<pandas.io.formats.style.Styler at 0x251614bb820>"
      ]
     },
     "execution_count": 36,
     "metadata": {},
     "output_type": "execute_result"
    }
   ],
   "source": [
    "#purchasing analysis (gender)\n",
    "purcount = gender[\"Purchase ID\"].count()\n",
    "avgpurprice = gender[\"Price\"].mean()\n",
    "totalpur = gender[\"Price\"].sum()\n",
    "avgtotalpur = totalpur/gendercount\n",
    "genderanalysisdf = pd.DataFrame({\"Purchase Count\": purcount,\n",
    "                                \"Average Purchase Price\": avgpurprice,\n",
    "                                \"Total Purchase Value\": totalpur,\n",
    "                                \"Avg Total Purchase per Person\": avgtotalpur})\n",
    "genderanalysisdf.style.format({\"Average Purchase Price\":\"${:.2f}\",\n",
    "                               \"Total Purchase Value\": \"${:,.2f}\",\n",
    "                               \"Avg Total Purchase per Person\":\"${:.2f}\"})"
   ]
  },
  {
   "cell_type": "code",
   "execution_count": 42,
   "metadata": {},
   "outputs": [
    {
     "data": {
      "text/html": [
       "<style  type=\"text/css\" >\n",
       "</style><table id=\"T_c6ac89f5_1293_11eb_8d1f_e454e825714e\" ><thead>    <tr>        <th class=\"blank level0\" ></th>        <th class=\"col_heading level0 col0\" >Total Count</th>        <th class=\"col_heading level0 col1\" >Percentage of Players</th>    </tr></thead><tbody>\n",
       "                <tr>\n",
       "                        <th id=\"T_c6ac89f5_1293_11eb_8d1f_e454e825714elevel0_row0\" class=\"row_heading level0 row0\" ><10</th>\n",
       "                        <td id=\"T_c6ac89f5_1293_11eb_8d1f_e454e825714erow0_col0\" class=\"data row0 col0\" >17</td>\n",
       "                        <td id=\"T_c6ac89f5_1293_11eb_8d1f_e454e825714erow0_col1\" class=\"data row0 col1\" >2.95%</td>\n",
       "            </tr>\n",
       "            <tr>\n",
       "                        <th id=\"T_c6ac89f5_1293_11eb_8d1f_e454e825714elevel0_row1\" class=\"row_heading level0 row1\" >10-14</th>\n",
       "                        <td id=\"T_c6ac89f5_1293_11eb_8d1f_e454e825714erow1_col0\" class=\"data row1 col0\" >22</td>\n",
       "                        <td id=\"T_c6ac89f5_1293_11eb_8d1f_e454e825714erow1_col1\" class=\"data row1 col1\" >3.82%</td>\n",
       "            </tr>\n",
       "            <tr>\n",
       "                        <th id=\"T_c6ac89f5_1293_11eb_8d1f_e454e825714elevel0_row2\" class=\"row_heading level0 row2\" >15-19</th>\n",
       "                        <td id=\"T_c6ac89f5_1293_11eb_8d1f_e454e825714erow2_col0\" class=\"data row2 col0\" >107</td>\n",
       "                        <td id=\"T_c6ac89f5_1293_11eb_8d1f_e454e825714erow2_col1\" class=\"data row2 col1\" >18.58%</td>\n",
       "            </tr>\n",
       "            <tr>\n",
       "                        <th id=\"T_c6ac89f5_1293_11eb_8d1f_e454e825714elevel0_row3\" class=\"row_heading level0 row3\" >20-24</th>\n",
       "                        <td id=\"T_c6ac89f5_1293_11eb_8d1f_e454e825714erow3_col0\" class=\"data row3 col0\" >258</td>\n",
       "                        <td id=\"T_c6ac89f5_1293_11eb_8d1f_e454e825714erow3_col1\" class=\"data row3 col1\" >44.79%</td>\n",
       "            </tr>\n",
       "            <tr>\n",
       "                        <th id=\"T_c6ac89f5_1293_11eb_8d1f_e454e825714elevel0_row4\" class=\"row_heading level0 row4\" >25-29</th>\n",
       "                        <td id=\"T_c6ac89f5_1293_11eb_8d1f_e454e825714erow4_col0\" class=\"data row4 col0\" >77</td>\n",
       "                        <td id=\"T_c6ac89f5_1293_11eb_8d1f_e454e825714erow4_col1\" class=\"data row4 col1\" >13.37%</td>\n",
       "            </tr>\n",
       "            <tr>\n",
       "                        <th id=\"T_c6ac89f5_1293_11eb_8d1f_e454e825714elevel0_row5\" class=\"row_heading level0 row5\" >30-34</th>\n",
       "                        <td id=\"T_c6ac89f5_1293_11eb_8d1f_e454e825714erow5_col0\" class=\"data row5 col0\" >52</td>\n",
       "                        <td id=\"T_c6ac89f5_1293_11eb_8d1f_e454e825714erow5_col1\" class=\"data row5 col1\" >9.03%</td>\n",
       "            </tr>\n",
       "            <tr>\n",
       "                        <th id=\"T_c6ac89f5_1293_11eb_8d1f_e454e825714elevel0_row6\" class=\"row_heading level0 row6\" >35-39</th>\n",
       "                        <td id=\"T_c6ac89f5_1293_11eb_8d1f_e454e825714erow6_col0\" class=\"data row6 col0\" >31</td>\n",
       "                        <td id=\"T_c6ac89f5_1293_11eb_8d1f_e454e825714erow6_col1\" class=\"data row6 col1\" >5.38%</td>\n",
       "            </tr>\n",
       "            <tr>\n",
       "                        <th id=\"T_c6ac89f5_1293_11eb_8d1f_e454e825714elevel0_row7\" class=\"row_heading level0 row7\" >40+</th>\n",
       "                        <td id=\"T_c6ac89f5_1293_11eb_8d1f_e454e825714erow7_col0\" class=\"data row7 col0\" >12</td>\n",
       "                        <td id=\"T_c6ac89f5_1293_11eb_8d1f_e454e825714erow7_col1\" class=\"data row7 col1\" >2.08%</td>\n",
       "            </tr>\n",
       "    </tbody></table>"
      ],
      "text/plain": [
       "<pandas.io.formats.style.Styler at 0x251614fd970>"
      ]
     },
     "execution_count": 42,
     "metadata": {},
     "output_type": "execute_result"
    }
   ],
   "source": [
    "#age demographics\n",
    "bin = [0,9.9,14.9,19.9,24.9,29.9,34.9,39.9,99.9]\n",
    "agebin = [\"<10\",\"10-14\",\"15-19\",\"20-24\",\"25-29\",\"30-34\",\"35-39\",\"40+\"]\n",
    "df[\"Age Group\"]= pd.cut(df[\"Age\"],bin,labels=agebin)\n",
    "groupbyage = df.groupby(\"Age Group\")\n",
    "totalagecount = groupbyage[\"SN\"].nunique()\n",
    "agepercent = (totalagecount/playercount) * 100\n",
    "agedf = pd.DataFrame({\"Total Count\":totalagecount,\n",
    "                     \"Percentage of Players\":agepercent})\n",
    "agedf.index.name = None\n",
    "agedf.style.format({\"Percentage of Players\":\"{:.2f}%\"})"
   ]
  },
  {
   "cell_type": "code",
   "execution_count": 43,
   "metadata": {},
   "outputs": [
    {
     "data": {
      "text/html": [
       "<style  type=\"text/css\" >\n",
       "</style><table id=\"T_c8976701_1293_11eb_9d24_e454e825714e\" ><thead>    <tr>        <th class=\"blank level0\" ></th>        <th class=\"col_heading level0 col0\" >Purchase Count</th>        <th class=\"col_heading level0 col1\" >Average Purchase Price</th>        <th class=\"col_heading level0 col2\" >Total Purchase Value</th>        <th class=\"col_heading level0 col3\" >Avg Total Purchase per Person</th>    </tr></thead><tbody>\n",
       "                <tr>\n",
       "                        <th id=\"T_c8976701_1293_11eb_9d24_e454e825714elevel0_row0\" class=\"row_heading level0 row0\" ><10</th>\n",
       "                        <td id=\"T_c8976701_1293_11eb_9d24_e454e825714erow0_col0\" class=\"data row0 col0\" >23</td>\n",
       "                        <td id=\"T_c8976701_1293_11eb_9d24_e454e825714erow0_col1\" class=\"data row0 col1\" >$3.35</td>\n",
       "                        <td id=\"T_c8976701_1293_11eb_9d24_e454e825714erow0_col2\" class=\"data row0 col2\" >$77.13</td>\n",
       "                        <td id=\"T_c8976701_1293_11eb_9d24_e454e825714erow0_col3\" class=\"data row0 col3\" >$4.54</td>\n",
       "            </tr>\n",
       "            <tr>\n",
       "                        <th id=\"T_c8976701_1293_11eb_9d24_e454e825714elevel0_row1\" class=\"row_heading level0 row1\" >10-14</th>\n",
       "                        <td id=\"T_c8976701_1293_11eb_9d24_e454e825714erow1_col0\" class=\"data row1 col0\" >28</td>\n",
       "                        <td id=\"T_c8976701_1293_11eb_9d24_e454e825714erow1_col1\" class=\"data row1 col1\" >$2.96</td>\n",
       "                        <td id=\"T_c8976701_1293_11eb_9d24_e454e825714erow1_col2\" class=\"data row1 col2\" >$82.78</td>\n",
       "                        <td id=\"T_c8976701_1293_11eb_9d24_e454e825714erow1_col3\" class=\"data row1 col3\" >$3.76</td>\n",
       "            </tr>\n",
       "            <tr>\n",
       "                        <th id=\"T_c8976701_1293_11eb_9d24_e454e825714elevel0_row2\" class=\"row_heading level0 row2\" >15-19</th>\n",
       "                        <td id=\"T_c8976701_1293_11eb_9d24_e454e825714erow2_col0\" class=\"data row2 col0\" >136</td>\n",
       "                        <td id=\"T_c8976701_1293_11eb_9d24_e454e825714erow2_col1\" class=\"data row2 col1\" >$3.04</td>\n",
       "                        <td id=\"T_c8976701_1293_11eb_9d24_e454e825714erow2_col2\" class=\"data row2 col2\" >$412.89</td>\n",
       "                        <td id=\"T_c8976701_1293_11eb_9d24_e454e825714erow2_col3\" class=\"data row2 col3\" >$3.86</td>\n",
       "            </tr>\n",
       "            <tr>\n",
       "                        <th id=\"T_c8976701_1293_11eb_9d24_e454e825714elevel0_row3\" class=\"row_heading level0 row3\" >20-24</th>\n",
       "                        <td id=\"T_c8976701_1293_11eb_9d24_e454e825714erow3_col0\" class=\"data row3 col0\" >365</td>\n",
       "                        <td id=\"T_c8976701_1293_11eb_9d24_e454e825714erow3_col1\" class=\"data row3 col1\" >$3.05</td>\n",
       "                        <td id=\"T_c8976701_1293_11eb_9d24_e454e825714erow3_col2\" class=\"data row3 col2\" >$1114.06</td>\n",
       "                        <td id=\"T_c8976701_1293_11eb_9d24_e454e825714erow3_col3\" class=\"data row3 col3\" >$4.32</td>\n",
       "            </tr>\n",
       "            <tr>\n",
       "                        <th id=\"T_c8976701_1293_11eb_9d24_e454e825714elevel0_row4\" class=\"row_heading level0 row4\" >25-29</th>\n",
       "                        <td id=\"T_c8976701_1293_11eb_9d24_e454e825714erow4_col0\" class=\"data row4 col0\" >101</td>\n",
       "                        <td id=\"T_c8976701_1293_11eb_9d24_e454e825714erow4_col1\" class=\"data row4 col1\" >$2.90</td>\n",
       "                        <td id=\"T_c8976701_1293_11eb_9d24_e454e825714erow4_col2\" class=\"data row4 col2\" >$293.00</td>\n",
       "                        <td id=\"T_c8976701_1293_11eb_9d24_e454e825714erow4_col3\" class=\"data row4 col3\" >$3.81</td>\n",
       "            </tr>\n",
       "            <tr>\n",
       "                        <th id=\"T_c8976701_1293_11eb_9d24_e454e825714elevel0_row5\" class=\"row_heading level0 row5\" >30-34</th>\n",
       "                        <td id=\"T_c8976701_1293_11eb_9d24_e454e825714erow5_col0\" class=\"data row5 col0\" >73</td>\n",
       "                        <td id=\"T_c8976701_1293_11eb_9d24_e454e825714erow5_col1\" class=\"data row5 col1\" >$2.93</td>\n",
       "                        <td id=\"T_c8976701_1293_11eb_9d24_e454e825714erow5_col2\" class=\"data row5 col2\" >$214.00</td>\n",
       "                        <td id=\"T_c8976701_1293_11eb_9d24_e454e825714erow5_col3\" class=\"data row5 col3\" >$4.12</td>\n",
       "            </tr>\n",
       "            <tr>\n",
       "                        <th id=\"T_c8976701_1293_11eb_9d24_e454e825714elevel0_row6\" class=\"row_heading level0 row6\" >35-39</th>\n",
       "                        <td id=\"T_c8976701_1293_11eb_9d24_e454e825714erow6_col0\" class=\"data row6 col0\" >41</td>\n",
       "                        <td id=\"T_c8976701_1293_11eb_9d24_e454e825714erow6_col1\" class=\"data row6 col1\" >$3.60</td>\n",
       "                        <td id=\"T_c8976701_1293_11eb_9d24_e454e825714erow6_col2\" class=\"data row6 col2\" >$147.67</td>\n",
       "                        <td id=\"T_c8976701_1293_11eb_9d24_e454e825714erow6_col3\" class=\"data row6 col3\" >$4.76</td>\n",
       "            </tr>\n",
       "            <tr>\n",
       "                        <th id=\"T_c8976701_1293_11eb_9d24_e454e825714elevel0_row7\" class=\"row_heading level0 row7\" >40+</th>\n",
       "                        <td id=\"T_c8976701_1293_11eb_9d24_e454e825714erow7_col0\" class=\"data row7 col0\" >13</td>\n",
       "                        <td id=\"T_c8976701_1293_11eb_9d24_e454e825714erow7_col1\" class=\"data row7 col1\" >$2.94</td>\n",
       "                        <td id=\"T_c8976701_1293_11eb_9d24_e454e825714erow7_col2\" class=\"data row7 col2\" >$38.24</td>\n",
       "                        <td id=\"T_c8976701_1293_11eb_9d24_e454e825714erow7_col3\" class=\"data row7 col3\" >$3.19</td>\n",
       "            </tr>\n",
       "    </tbody></table>"
      ],
      "text/plain": [
       "<pandas.io.formats.style.Styler at 0x251614e2b80>"
      ]
     },
     "execution_count": 43,
     "metadata": {},
     "output_type": "execute_result"
    }
   ],
   "source": [
    "#purchasing analysis (age)\n",
    "agepurcount = groupbyage[\"Purchase ID\"].count()\n",
    "ageavgpurprice = groupbyage[\"Price\"].mean()\n",
    "agetotalpur = groupbyage[\"Price\"].sum()\n",
    "ageavgperson = agetotalpur/totalagecount\n",
    "ageanalysisdf = pd.DataFrame({\"Purchase Count\":agepurcount,\n",
    "                 \"Average Purchase Price\":ageavgpurprice,\n",
    "                 \"Total Purchase Value\":agetotalpur,\n",
    "                 \"Avg Total Purchase per Person\":ageavgperson})\n",
    "ageanalysisdf.style.format({\"Average Purchase Price\":\"${:.2f}\",\n",
    "                        \"Total Purchase Value\":\"${:.2f}\",\n",
    "                        \"Avg Total Purchase per Person\":\"${:.2f}\"})"
   ]
  },
  {
   "cell_type": "code",
   "execution_count": 10,
   "metadata": {},
   "outputs": [
    {
     "data": {
      "text/html": [
       "<style  type=\"text/css\" >\n",
       "</style><table id=\"T_35b8373b_1280_11eb_bfad_e454e825714e\" ><thead>    <tr>        <th class=\"blank level0\" ></th>        <th class=\"col_heading level0 col0\" >Purchase Count</th>        <th class=\"col_heading level0 col1\" >Average Purchase Price</th>        <th class=\"col_heading level0 col2\" >Total Purchase Value</th>    </tr>    <tr>        <th class=\"index_name level0\" >SN</th>        <th class=\"blank\" ></th>        <th class=\"blank\" ></th>        <th class=\"blank\" ></th>    </tr></thead><tbody>\n",
       "                <tr>\n",
       "                        <th id=\"T_35b8373b_1280_11eb_bfad_e454e825714elevel0_row0\" class=\"row_heading level0 row0\" >Lisosia93</th>\n",
       "                        <td id=\"T_35b8373b_1280_11eb_bfad_e454e825714erow0_col0\" class=\"data row0 col0\" >5</td>\n",
       "                        <td id=\"T_35b8373b_1280_11eb_bfad_e454e825714erow0_col1\" class=\"data row0 col1\" >$3.79</td>\n",
       "                        <td id=\"T_35b8373b_1280_11eb_bfad_e454e825714erow0_col2\" class=\"data row0 col2\" >$18.96</td>\n",
       "            </tr>\n",
       "            <tr>\n",
       "                        <th id=\"T_35b8373b_1280_11eb_bfad_e454e825714elevel0_row1\" class=\"row_heading level0 row1\" >Idastidru52</th>\n",
       "                        <td id=\"T_35b8373b_1280_11eb_bfad_e454e825714erow1_col0\" class=\"data row1 col0\" >4</td>\n",
       "                        <td id=\"T_35b8373b_1280_11eb_bfad_e454e825714erow1_col1\" class=\"data row1 col1\" >$3.86</td>\n",
       "                        <td id=\"T_35b8373b_1280_11eb_bfad_e454e825714erow1_col2\" class=\"data row1 col2\" >$15.45</td>\n",
       "            </tr>\n",
       "            <tr>\n",
       "                        <th id=\"T_35b8373b_1280_11eb_bfad_e454e825714elevel0_row2\" class=\"row_heading level0 row2\" >Chamjask73</th>\n",
       "                        <td id=\"T_35b8373b_1280_11eb_bfad_e454e825714erow2_col0\" class=\"data row2 col0\" >3</td>\n",
       "                        <td id=\"T_35b8373b_1280_11eb_bfad_e454e825714erow2_col1\" class=\"data row2 col1\" >$4.61</td>\n",
       "                        <td id=\"T_35b8373b_1280_11eb_bfad_e454e825714erow2_col2\" class=\"data row2 col2\" >$13.83</td>\n",
       "            </tr>\n",
       "            <tr>\n",
       "                        <th id=\"T_35b8373b_1280_11eb_bfad_e454e825714elevel0_row3\" class=\"row_heading level0 row3\" >Iral74</th>\n",
       "                        <td id=\"T_35b8373b_1280_11eb_bfad_e454e825714erow3_col0\" class=\"data row3 col0\" >4</td>\n",
       "                        <td id=\"T_35b8373b_1280_11eb_bfad_e454e825714erow3_col1\" class=\"data row3 col1\" >$3.40</td>\n",
       "                        <td id=\"T_35b8373b_1280_11eb_bfad_e454e825714erow3_col2\" class=\"data row3 col2\" >$13.62</td>\n",
       "            </tr>\n",
       "            <tr>\n",
       "                        <th id=\"T_35b8373b_1280_11eb_bfad_e454e825714elevel0_row4\" class=\"row_heading level0 row4\" >Iskadarya95</th>\n",
       "                        <td id=\"T_35b8373b_1280_11eb_bfad_e454e825714erow4_col0\" class=\"data row4 col0\" >3</td>\n",
       "                        <td id=\"T_35b8373b_1280_11eb_bfad_e454e825714erow4_col1\" class=\"data row4 col1\" >$4.37</td>\n",
       "                        <td id=\"T_35b8373b_1280_11eb_bfad_e454e825714erow4_col2\" class=\"data row4 col2\" >$13.10</td>\n",
       "            </tr>\n",
       "    </tbody></table>"
      ],
      "text/plain": [
       "<pandas.io.formats.style.Styler at 0x2515e166b20>"
      ]
     },
     "execution_count": 10,
     "metadata": {},
     "output_type": "execute_result"
    }
   ],
   "source": [
    "#top spenders\n",
    "groupbyspender = df.groupby(\"SN\")\n",
    "spendercount = groupbyspender[\"Purchase ID\"].count()\n",
    "spenderavg = groupbyspender[\"Price\"].mean()\n",
    "spendertotal = groupbyspender[\"Price\"].sum()\n",
    "spenderdf = pd.DataFrame({\"Purchase Count\":spendercount,\n",
    "                         \"Average Purchase Price\":spenderavg,\n",
    "                         \"Total Purchase Value\":spendertotal})\n",
    "topspenderdf= spenderdf.sort_values([\"Total Purchase Value\"],ascending =False).head()\n",
    "topspenderdf.style.format({\"Average Purchase Price\":\"${:.2f}\",\n",
    "                          \"Total Purchase Value\":\"${:.2f}\"})"
   ]
  },
  {
   "cell_type": "code",
   "execution_count": 40,
   "metadata": {},
   "outputs": [
    {
     "data": {
      "text/html": [
       "<style  type=\"text/css\" >\n",
       "</style><table id=\"T_bc0f6df6_1293_11eb_bc16_e454e825714e\" ><thead>    <tr>        <th class=\"blank\" ></th>        <th class=\"blank level0\" ></th>        <th class=\"col_heading level0 col0\" >Purchase Count</th>        <th class=\"col_heading level0 col1\" >Item Price</th>        <th class=\"col_heading level0 col2\" >Total Purchase Value</th>    </tr>    <tr>        <th class=\"index_name level0\" >Item ID</th>        <th class=\"index_name level1\" >Item Name</th>        <th class=\"blank\" ></th>        <th class=\"blank\" ></th>        <th class=\"blank\" ></th>    </tr></thead><tbody>\n",
       "                <tr>\n",
       "                        <th id=\"T_bc0f6df6_1293_11eb_bc16_e454e825714elevel0_row0\" class=\"row_heading level0 row0\" >92</th>\n",
       "                        <th id=\"T_bc0f6df6_1293_11eb_bc16_e454e825714elevel1_row0\" class=\"row_heading level1 row0\" >Final Critic</th>\n",
       "                        <td id=\"T_bc0f6df6_1293_11eb_bc16_e454e825714erow0_col0\" class=\"data row0 col0\" >13</td>\n",
       "                        <td id=\"T_bc0f6df6_1293_11eb_bc16_e454e825714erow0_col1\" class=\"data row0 col1\" >$4.61</td>\n",
       "                        <td id=\"T_bc0f6df6_1293_11eb_bc16_e454e825714erow0_col2\" class=\"data row0 col2\" >$59.99</td>\n",
       "            </tr>\n",
       "            <tr>\n",
       "                        <th id=\"T_bc0f6df6_1293_11eb_bc16_e454e825714elevel0_row1\" class=\"row_heading level0 row1\" >178</th>\n",
       "                        <th id=\"T_bc0f6df6_1293_11eb_bc16_e454e825714elevel1_row1\" class=\"row_heading level1 row1\" >Oathbreaker, Last Hope of the Breaking Storm</th>\n",
       "                        <td id=\"T_bc0f6df6_1293_11eb_bc16_e454e825714erow1_col0\" class=\"data row1 col0\" >12</td>\n",
       "                        <td id=\"T_bc0f6df6_1293_11eb_bc16_e454e825714erow1_col1\" class=\"data row1 col1\" >$4.23</td>\n",
       "                        <td id=\"T_bc0f6df6_1293_11eb_bc16_e454e825714erow1_col2\" class=\"data row1 col2\" >$50.76</td>\n",
       "            </tr>\n",
       "            <tr>\n",
       "                        <th id=\"T_bc0f6df6_1293_11eb_bc16_e454e825714elevel0_row2\" class=\"row_heading level0 row2\" >145</th>\n",
       "                        <th id=\"T_bc0f6df6_1293_11eb_bc16_e454e825714elevel1_row2\" class=\"row_heading level1 row2\" >Fiery Glass Crusader</th>\n",
       "                        <td id=\"T_bc0f6df6_1293_11eb_bc16_e454e825714erow2_col0\" class=\"data row2 col0\" >9</td>\n",
       "                        <td id=\"T_bc0f6df6_1293_11eb_bc16_e454e825714erow2_col1\" class=\"data row2 col1\" >$4.58</td>\n",
       "                        <td id=\"T_bc0f6df6_1293_11eb_bc16_e454e825714erow2_col2\" class=\"data row2 col2\" >$41.22</td>\n",
       "            </tr>\n",
       "            <tr>\n",
       "                        <th id=\"T_bc0f6df6_1293_11eb_bc16_e454e825714elevel0_row3\" class=\"row_heading level0 row3\" >132</th>\n",
       "                        <th id=\"T_bc0f6df6_1293_11eb_bc16_e454e825714elevel1_row3\" class=\"row_heading level1 row3\" >Persuasion</th>\n",
       "                        <td id=\"T_bc0f6df6_1293_11eb_bc16_e454e825714erow3_col0\" class=\"data row3 col0\" >9</td>\n",
       "                        <td id=\"T_bc0f6df6_1293_11eb_bc16_e454e825714erow3_col1\" class=\"data row3 col1\" >$3.22</td>\n",
       "                        <td id=\"T_bc0f6df6_1293_11eb_bc16_e454e825714erow3_col2\" class=\"data row3 col2\" >$28.99</td>\n",
       "            </tr>\n",
       "            <tr>\n",
       "                        <th id=\"T_bc0f6df6_1293_11eb_bc16_e454e825714elevel0_row4\" class=\"row_heading level0 row4\" >108</th>\n",
       "                        <th id=\"T_bc0f6df6_1293_11eb_bc16_e454e825714elevel1_row4\" class=\"row_heading level1 row4\" >Extraction, Quickblade Of Trembling Hands</th>\n",
       "                        <td id=\"T_bc0f6df6_1293_11eb_bc16_e454e825714erow4_col0\" class=\"data row4 col0\" >9</td>\n",
       "                        <td id=\"T_bc0f6df6_1293_11eb_bc16_e454e825714erow4_col1\" class=\"data row4 col1\" >$3.53</td>\n",
       "                        <td id=\"T_bc0f6df6_1293_11eb_bc16_e454e825714erow4_col2\" class=\"data row4 col2\" >$31.77</td>\n",
       "            </tr>\n",
       "    </tbody></table>"
      ],
      "text/plain": [
       "<pandas.io.formats.style.Styler at 0x251614fddf0>"
      ]
     },
     "execution_count": 40,
     "metadata": {},
     "output_type": "execute_result"
    }
   ],
   "source": [
    "#most popular items\n",
    "itemdf = df[[\"Item ID\",\"Item Name\",\"Price\"]]\n",
    "groupbyitem = itemdf.groupby([\"Item ID\",\"Item Name\"])\n",
    "itemcount = groupbyitem[\"Price\"].count()\n",
    "itemtotal = groupbyitem[\"Price\"].sum()\n",
    "itemprice = itemtotal/itemcount\n",
    "itemdf = pd.DataFrame({\"Purchase Count\":itemcount,\n",
    "                      \"Item Price\":itemprice,\n",
    "                      \"Total Purchase Value\":itemtotal})\n",
    "topitemdf= itemdf.sort_values([\"Purchase Count\"],ascending = False).head()\n",
    "topitemdf.style.format({\"Item Price\":\"${:.2f}\",\n",
    "                    \"Total Purchase Value\":\"${:.2f}\"})"
   ]
  },
  {
   "cell_type": "code",
   "execution_count": 39,
   "metadata": {},
   "outputs": [
    {
     "data": {
      "text/html": [
       "<style  type=\"text/css\" >\n",
       "</style><table id=\"T_bb12304e_1293_11eb_8d06_e454e825714e\" ><thead>    <tr>        <th class=\"blank\" ></th>        <th class=\"blank level0\" ></th>        <th class=\"col_heading level0 col0\" >Purchase Count</th>        <th class=\"col_heading level0 col1\" >Item Price</th>        <th class=\"col_heading level0 col2\" >Total Purchase Value</th>    </tr>    <tr>        <th class=\"index_name level0\" >Item ID</th>        <th class=\"index_name level1\" >Item Name</th>        <th class=\"blank\" ></th>        <th class=\"blank\" ></th>        <th class=\"blank\" ></th>    </tr></thead><tbody>\n",
       "                <tr>\n",
       "                        <th id=\"T_bb12304e_1293_11eb_8d06_e454e825714elevel0_row0\" class=\"row_heading level0 row0\" >92</th>\n",
       "                        <th id=\"T_bb12304e_1293_11eb_8d06_e454e825714elevel1_row0\" class=\"row_heading level1 row0\" >Final Critic</th>\n",
       "                        <td id=\"T_bb12304e_1293_11eb_8d06_e454e825714erow0_col0\" class=\"data row0 col0\" >13</td>\n",
       "                        <td id=\"T_bb12304e_1293_11eb_8d06_e454e825714erow0_col1\" class=\"data row0 col1\" >$4.61</td>\n",
       "                        <td id=\"T_bb12304e_1293_11eb_8d06_e454e825714erow0_col2\" class=\"data row0 col2\" >$59.99</td>\n",
       "            </tr>\n",
       "            <tr>\n",
       "                        <th id=\"T_bb12304e_1293_11eb_8d06_e454e825714elevel0_row1\" class=\"row_heading level0 row1\" >178</th>\n",
       "                        <th id=\"T_bb12304e_1293_11eb_8d06_e454e825714elevel1_row1\" class=\"row_heading level1 row1\" >Oathbreaker, Last Hope of the Breaking Storm</th>\n",
       "                        <td id=\"T_bb12304e_1293_11eb_8d06_e454e825714erow1_col0\" class=\"data row1 col0\" >12</td>\n",
       "                        <td id=\"T_bb12304e_1293_11eb_8d06_e454e825714erow1_col1\" class=\"data row1 col1\" >$4.23</td>\n",
       "                        <td id=\"T_bb12304e_1293_11eb_8d06_e454e825714erow1_col2\" class=\"data row1 col2\" >$50.76</td>\n",
       "            </tr>\n",
       "            <tr>\n",
       "                        <th id=\"T_bb12304e_1293_11eb_8d06_e454e825714elevel0_row2\" class=\"row_heading level0 row2\" >82</th>\n",
       "                        <th id=\"T_bb12304e_1293_11eb_8d06_e454e825714elevel1_row2\" class=\"row_heading level1 row2\" >Nirvana</th>\n",
       "                        <td id=\"T_bb12304e_1293_11eb_8d06_e454e825714erow2_col0\" class=\"data row2 col0\" >9</td>\n",
       "                        <td id=\"T_bb12304e_1293_11eb_8d06_e454e825714erow2_col1\" class=\"data row2 col1\" >$4.90</td>\n",
       "                        <td id=\"T_bb12304e_1293_11eb_8d06_e454e825714erow2_col2\" class=\"data row2 col2\" >$44.10</td>\n",
       "            </tr>\n",
       "            <tr>\n",
       "                        <th id=\"T_bb12304e_1293_11eb_8d06_e454e825714elevel0_row3\" class=\"row_heading level0 row3\" >145</th>\n",
       "                        <th id=\"T_bb12304e_1293_11eb_8d06_e454e825714elevel1_row3\" class=\"row_heading level1 row3\" >Fiery Glass Crusader</th>\n",
       "                        <td id=\"T_bb12304e_1293_11eb_8d06_e454e825714erow3_col0\" class=\"data row3 col0\" >9</td>\n",
       "                        <td id=\"T_bb12304e_1293_11eb_8d06_e454e825714erow3_col1\" class=\"data row3 col1\" >$4.58</td>\n",
       "                        <td id=\"T_bb12304e_1293_11eb_8d06_e454e825714erow3_col2\" class=\"data row3 col2\" >$41.22</td>\n",
       "            </tr>\n",
       "            <tr>\n",
       "                        <th id=\"T_bb12304e_1293_11eb_8d06_e454e825714elevel0_row4\" class=\"row_heading level0 row4\" >103</th>\n",
       "                        <th id=\"T_bb12304e_1293_11eb_8d06_e454e825714elevel1_row4\" class=\"row_heading level1 row4\" >Singed Scalpel</th>\n",
       "                        <td id=\"T_bb12304e_1293_11eb_8d06_e454e825714erow4_col0\" class=\"data row4 col0\" >8</td>\n",
       "                        <td id=\"T_bb12304e_1293_11eb_8d06_e454e825714erow4_col1\" class=\"data row4 col1\" >$4.35</td>\n",
       "                        <td id=\"T_bb12304e_1293_11eb_8d06_e454e825714erow4_col2\" class=\"data row4 col2\" >$34.80</td>\n",
       "            </tr>\n",
       "    </tbody></table>"
      ],
      "text/plain": [
       "<pandas.io.formats.style.Styler at 0x251614fb2e0>"
      ]
     },
     "execution_count": 39,
     "metadata": {},
     "output_type": "execute_result"
    }
   ],
   "source": [
    "newtopitemdf= itemdf.sort_values([\"Total Purchase Value\"],ascending = False).head()\n",
    "newtopitemdf.style.format({\"Item Price\":\"${:.2f}\",\n",
    "                          \"Total Purchase Value\":\"${:.2f}\"})"
   ]
  },
  {
   "cell_type": "code",
   "execution_count": null,
   "metadata": {},
   "outputs": [],
   "source": []
  }
 ],
 "metadata": {
  "kernelspec": {
   "display_name": "Python 3",
   "language": "python",
   "name": "python3"
  },
  "language_info": {
   "codemirror_mode": {
    "name": "ipython",
    "version": 3
   },
   "file_extension": ".py",
   "mimetype": "text/x-python",
   "name": "python",
   "nbconvert_exporter": "python",
   "pygments_lexer": "ipython3",
   "version": "3.8.3"
  }
 },
 "nbformat": 4,
 "nbformat_minor": 4
}
