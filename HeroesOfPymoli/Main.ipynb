{
 "cells": [
  {
   "cell_type": "code",
   "execution_count": 38,
   "metadata": {},
   "outputs": [],
   "source": [
    "#importing modules\n",
    "import pandas as pd\n",
    "\n",
    "#loading csv\n",
    "file = \"Resources/purchase_data.csv\"\n",
    "\n",
    "#reading and storing \n",
    "df = pd.read_csv(file)\n",
    "#df.tail() to make sure it works"
   ]
  },
  {
   "cell_type": "code",
   "execution_count": 37,
   "metadata": {},
   "outputs": [
    {
     "data": {
      "text/html": [
       "<div>\n",
       "<style scoped>\n",
       "    .dataframe tbody tr th:only-of-type {\n",
       "        vertical-align: middle;\n",
       "    }\n",
       "\n",
       "    .dataframe tbody tr th {\n",
       "        vertical-align: top;\n",
       "    }\n",
       "\n",
       "    .dataframe thead th {\n",
       "        text-align: right;\n",
       "    }\n",
       "</style>\n",
       "<table border=\"1\" class=\"dataframe\">\n",
       "  <thead>\n",
       "    <tr style=\"text-align: right;\">\n",
       "      <th></th>\n",
       "      <th>Total Players</th>\n",
       "    </tr>\n",
       "  </thead>\n",
       "  <tbody>\n",
       "    <tr>\n",
       "      <th>0</th>\n",
       "      <td>576</td>\n",
       "    </tr>\n",
       "  </tbody>\n",
       "</table>\n",
       "</div>"
      ],
      "text/plain": [
       "   Total Players\n",
       "0            576"
      ]
     },
     "execution_count": 37,
     "metadata": {},
     "output_type": "execute_result"
    }
   ],
   "source": [
    "#player count\n",
    "playercount = len(df[\"SN\"].value_counts())\n",
    "playercountdf = pd.DataFrame({\"Total Players\":[playercount]})\n",
    "playercountdf"
   ]
  },
  {
   "cell_type": "code",
   "execution_count": 82,
   "metadata": {},
   "outputs": [
    {
     "data": {
      "text/html": [
       "<style  type=\"text/css\" >\n",
       "</style><table id=\"T_39808d72_11b3_11eb_b14d_e454e825714e\" ><thead>    <tr>        <th class=\"blank level0\" ></th>        <th class=\"col_heading level0 col0\" >Number of Unique Items</th>        <th class=\"col_heading level0 col1\" >Average Price</th>        <th class=\"col_heading level0 col2\" >Number of Purchases</th>        <th class=\"col_heading level0 col3\" >Total Revenue</th>    </tr></thead><tbody>\n",
       "                <tr>\n",
       "                        <th id=\"T_39808d72_11b3_11eb_b14d_e454e825714elevel0_row0\" class=\"row_heading level0 row0\" >0</th>\n",
       "                        <td id=\"T_39808d72_11b3_11eb_b14d_e454e825714erow0_col0\" class=\"data row0 col0\" >179</td>\n",
       "                        <td id=\"T_39808d72_11b3_11eb_b14d_e454e825714erow0_col1\" class=\"data row0 col1\" >$3.05</td>\n",
       "                        <td id=\"T_39808d72_11b3_11eb_b14d_e454e825714erow0_col2\" class=\"data row0 col2\" >780</td>\n",
       "                        <td id=\"T_39808d72_11b3_11eb_b14d_e454e825714erow0_col3\" class=\"data row0 col3\" >$2,379.77</td>\n",
       "            </tr>\n",
       "    </tbody></table>"
      ],
      "text/plain": [
       "<pandas.io.formats.style.Styler at 0x1d1865a5cd0>"
      ]
     },
     "execution_count": 82,
     "metadata": {},
     "output_type": "execute_result"
    }
   ],
   "source": [
    "#purchasing analysis (total)\n",
    "uniqueitem = len(df[\"Item ID\"].value_counts())\n",
    "averageprice = df[\"Price\"].mean()\n",
    "numberpurchase = len(df[\"Purchase ID\"].value_counts())\n",
    "totalrevenue = df[\"Price\"].sum()\n",
    "totalanalysisdf = pd.DataFrame({\"Number of Unique Items\":[uniqueitem], \n",
    "                                \"Average Price\":[averageprice], \n",
    "                                \"Number of Purchases\":[numberpurchase], \n",
    "                                \"Total Revenue\":[totalrevenue]})\n",
    "totalanalysisdf.style.format({\"Average Price\":\"${:.2f}\",\n",
    "                              \"Total Revenue\": \"${:,.2f}\"})"
   ]
  },
  {
   "cell_type": "code",
   "execution_count": 95,
   "metadata": {},
   "outputs": [
    {
     "data": {
      "text/html": [
       "<style  type=\"text/css\" >\n",
       "</style><table id=\"T_2ea7efc7_1226_11eb_a153_e454e825714e\" ><thead>    <tr>        <th class=\"blank level0\" ></th>        <th class=\"col_heading level0 col0\" >Total Count</th>        <th class=\"col_heading level0 col1\" >Percentage of Players</th>    </tr></thead><tbody>\n",
       "                <tr>\n",
       "                        <th id=\"T_2ea7efc7_1226_11eb_a153_e454e825714elevel0_row0\" class=\"row_heading level0 row0\" >Male</th>\n",
       "                        <td id=\"T_2ea7efc7_1226_11eb_a153_e454e825714erow0_col0\" class=\"data row0 col0\" >484</td>\n",
       "                        <td id=\"T_2ea7efc7_1226_11eb_a153_e454e825714erow0_col1\" class=\"data row0 col1\" >84.03%</td>\n",
       "            </tr>\n",
       "            <tr>\n",
       "                        <th id=\"T_2ea7efc7_1226_11eb_a153_e454e825714elevel0_row1\" class=\"row_heading level0 row1\" >Female</th>\n",
       "                        <td id=\"T_2ea7efc7_1226_11eb_a153_e454e825714erow1_col0\" class=\"data row1 col0\" >81</td>\n",
       "                        <td id=\"T_2ea7efc7_1226_11eb_a153_e454e825714erow1_col1\" class=\"data row1 col1\" >14.06%</td>\n",
       "            </tr>\n",
       "            <tr>\n",
       "                        <th id=\"T_2ea7efc7_1226_11eb_a153_e454e825714elevel0_row2\" class=\"row_heading level0 row2\" >Other / Non-Disclosed</th>\n",
       "                        <td id=\"T_2ea7efc7_1226_11eb_a153_e454e825714erow2_col0\" class=\"data row2 col0\" >11</td>\n",
       "                        <td id=\"T_2ea7efc7_1226_11eb_a153_e454e825714erow2_col1\" class=\"data row2 col1\" >1.91%</td>\n",
       "            </tr>\n",
       "    </tbody></table>"
      ],
      "text/plain": [
       "<pandas.io.formats.style.Styler at 0x1d1853d65b0>"
      ]
     },
     "execution_count": 95,
     "metadata": {},
     "output_type": "execute_result"
    }
   ],
   "source": [
    "#gender demographics\n",
    "gender = df.groupby(\"Gender\")\n",
    "gendercount = gender.nunique()[\"SN\"]\n",
    "genderpercent = gendercount / playercount *100\n",
    "genderdf = pd.DataFrame({\"Total Count\":gendercount,\n",
    "                         \"Percentage of Players\":genderpercent})\n",
    "genderdf.index.name = None\n",
    "genderdf.sort_values([\"Total Count\"],ascending = False).style.format({\"Percentage of Players\":\"{:.2f}%\"})"
   ]
  },
  {
   "cell_type": "code",
   "execution_count": 96,
   "metadata": {},
   "outputs": [
    {
     "data": {
      "text/html": [
       "<style  type=\"text/css\" >\n",
       "</style><table id=\"T_35cda881_1226_11eb_8c11_e454e825714e\" ><thead>    <tr>        <th class=\"blank level0\" ></th>        <th class=\"col_heading level0 col0\" >Purchase Count</th>        <th class=\"col_heading level0 col1\" >Average Purchase Price</th>        <th class=\"col_heading level0 col2\" >Total Purchase Value</th>        <th class=\"col_heading level0 col3\" >Avg Total Purchase per Person</th>    </tr></thead><tbody>\n",
       "                <tr>\n",
       "                        <th id=\"T_35cda881_1226_11eb_8c11_e454e825714elevel0_row0\" class=\"row_heading level0 row0\" >Female</th>\n",
       "                        <td id=\"T_35cda881_1226_11eb_8c11_e454e825714erow0_col0\" class=\"data row0 col0\" >113</td>\n",
       "                        <td id=\"T_35cda881_1226_11eb_8c11_e454e825714erow0_col1\" class=\"data row0 col1\" >$3.20</td>\n",
       "                        <td id=\"T_35cda881_1226_11eb_8c11_e454e825714erow0_col2\" class=\"data row0 col2\" >$361.94</td>\n",
       "                        <td id=\"T_35cda881_1226_11eb_8c11_e454e825714erow0_col3\" class=\"data row0 col3\" >$4.47</td>\n",
       "            </tr>\n",
       "            <tr>\n",
       "                        <th id=\"T_35cda881_1226_11eb_8c11_e454e825714elevel0_row1\" class=\"row_heading level0 row1\" >Male</th>\n",
       "                        <td id=\"T_35cda881_1226_11eb_8c11_e454e825714erow1_col0\" class=\"data row1 col0\" >652</td>\n",
       "                        <td id=\"T_35cda881_1226_11eb_8c11_e454e825714erow1_col1\" class=\"data row1 col1\" >$3.02</td>\n",
       "                        <td id=\"T_35cda881_1226_11eb_8c11_e454e825714erow1_col2\" class=\"data row1 col2\" >$1,967.64</td>\n",
       "                        <td id=\"T_35cda881_1226_11eb_8c11_e454e825714erow1_col3\" class=\"data row1 col3\" >$4.07</td>\n",
       "            </tr>\n",
       "            <tr>\n",
       "                        <th id=\"T_35cda881_1226_11eb_8c11_e454e825714elevel0_row2\" class=\"row_heading level0 row2\" >Other / Non-Disclosed</th>\n",
       "                        <td id=\"T_35cda881_1226_11eb_8c11_e454e825714erow2_col0\" class=\"data row2 col0\" >15</td>\n",
       "                        <td id=\"T_35cda881_1226_11eb_8c11_e454e825714erow2_col1\" class=\"data row2 col1\" >$3.35</td>\n",
       "                        <td id=\"T_35cda881_1226_11eb_8c11_e454e825714erow2_col2\" class=\"data row2 col2\" >$50.19</td>\n",
       "                        <td id=\"T_35cda881_1226_11eb_8c11_e454e825714erow2_col3\" class=\"data row2 col3\" >$4.56</td>\n",
       "            </tr>\n",
       "    </tbody></table>"
      ],
      "text/plain": [
       "<pandas.io.formats.style.Styler at 0x1d1866c1400>"
      ]
     },
     "execution_count": 96,
     "metadata": {},
     "output_type": "execute_result"
    }
   ],
   "source": [
    "#purchasing analysis (gender)\n",
    "purcount = gender[\"Purchase ID\"].count()\n",
    "avgpurprice = gender[\"Price\"].mean()\n",
    "totalpur = gender[\"Price\"].sum()\n",
    "avgtotalpur = totalpur/gendercount\n",
    "genderanalysisdf = pd.DataFrame({\"Purchase Count\": purcount,\n",
    "                                \"Average Purchase Price\": avgpurprice,\n",
    "                                \"Total Purchase Value\": totalpur,\n",
    "                                \"Avg Total Purchase per Person\": avgtotalpur})\n",
    "genderanalysisdf.style.format({\"Average Purchase Price\":\"${:.2f}\",\n",
    "                               \"Total Purchase Value\": \"${:,.2f}\",\n",
    "                               \"Avg Total Purchase per Person\":\"${:.2f}\"})"
   ]
  },
  {
   "cell_type": "code",
   "execution_count": 100,
   "metadata": {},
   "outputs": [
    {
     "data": {
      "text/html": [
       "<style  type=\"text/css\" >\n",
       "</style><table id=\"T_1b5ea1c3_1227_11eb_851c_e454e825714e\" ><thead>    <tr>        <th class=\"blank level0\" ></th>        <th class=\"col_heading level0 col0\" >Total Count</th>        <th class=\"col_heading level0 col1\" >Percentage of Players</th>    </tr></thead><tbody>\n",
       "                <tr>\n",
       "                        <th id=\"T_1b5ea1c3_1227_11eb_851c_e454e825714elevel0_row0\" class=\"row_heading level0 row0\" ><10</th>\n",
       "                        <td id=\"T_1b5ea1c3_1227_11eb_851c_e454e825714erow0_col0\" class=\"data row0 col0\" >17</td>\n",
       "                        <td id=\"T_1b5ea1c3_1227_11eb_851c_e454e825714erow0_col1\" class=\"data row0 col1\" >2.95%</td>\n",
       "            </tr>\n",
       "            <tr>\n",
       "                        <th id=\"T_1b5ea1c3_1227_11eb_851c_e454e825714elevel0_row1\" class=\"row_heading level0 row1\" >10-14</th>\n",
       "                        <td id=\"T_1b5ea1c3_1227_11eb_851c_e454e825714erow1_col0\" class=\"data row1 col0\" >22</td>\n",
       "                        <td id=\"T_1b5ea1c3_1227_11eb_851c_e454e825714erow1_col1\" class=\"data row1 col1\" >3.82%</td>\n",
       "            </tr>\n",
       "            <tr>\n",
       "                        <th id=\"T_1b5ea1c3_1227_11eb_851c_e454e825714elevel0_row2\" class=\"row_heading level0 row2\" >15-19</th>\n",
       "                        <td id=\"T_1b5ea1c3_1227_11eb_851c_e454e825714erow2_col0\" class=\"data row2 col0\" >107</td>\n",
       "                        <td id=\"T_1b5ea1c3_1227_11eb_851c_e454e825714erow2_col1\" class=\"data row2 col1\" >18.58%</td>\n",
       "            </tr>\n",
       "            <tr>\n",
       "                        <th id=\"T_1b5ea1c3_1227_11eb_851c_e454e825714elevel0_row3\" class=\"row_heading level0 row3\" >20-24</th>\n",
       "                        <td id=\"T_1b5ea1c3_1227_11eb_851c_e454e825714erow3_col0\" class=\"data row3 col0\" >258</td>\n",
       "                        <td id=\"T_1b5ea1c3_1227_11eb_851c_e454e825714erow3_col1\" class=\"data row3 col1\" >44.79%</td>\n",
       "            </tr>\n",
       "            <tr>\n",
       "                        <th id=\"T_1b5ea1c3_1227_11eb_851c_e454e825714elevel0_row4\" class=\"row_heading level0 row4\" >25-29</th>\n",
       "                        <td id=\"T_1b5ea1c3_1227_11eb_851c_e454e825714erow4_col0\" class=\"data row4 col0\" >77</td>\n",
       "                        <td id=\"T_1b5ea1c3_1227_11eb_851c_e454e825714erow4_col1\" class=\"data row4 col1\" >13.37%</td>\n",
       "            </tr>\n",
       "            <tr>\n",
       "                        <th id=\"T_1b5ea1c3_1227_11eb_851c_e454e825714elevel0_row5\" class=\"row_heading level0 row5\" >30-34</th>\n",
       "                        <td id=\"T_1b5ea1c3_1227_11eb_851c_e454e825714erow5_col0\" class=\"data row5 col0\" >52</td>\n",
       "                        <td id=\"T_1b5ea1c3_1227_11eb_851c_e454e825714erow5_col1\" class=\"data row5 col1\" >9.03%</td>\n",
       "            </tr>\n",
       "            <tr>\n",
       "                        <th id=\"T_1b5ea1c3_1227_11eb_851c_e454e825714elevel0_row6\" class=\"row_heading level0 row6\" >35-39</th>\n",
       "                        <td id=\"T_1b5ea1c3_1227_11eb_851c_e454e825714erow6_col0\" class=\"data row6 col0\" >31</td>\n",
       "                        <td id=\"T_1b5ea1c3_1227_11eb_851c_e454e825714erow6_col1\" class=\"data row6 col1\" >5.38%</td>\n",
       "            </tr>\n",
       "            <tr>\n",
       "                        <th id=\"T_1b5ea1c3_1227_11eb_851c_e454e825714elevel0_row7\" class=\"row_heading level0 row7\" >40+</th>\n",
       "                        <td id=\"T_1b5ea1c3_1227_11eb_851c_e454e825714erow7_col0\" class=\"data row7 col0\" >12</td>\n",
       "                        <td id=\"T_1b5ea1c3_1227_11eb_851c_e454e825714erow7_col1\" class=\"data row7 col1\" >2.08%</td>\n",
       "            </tr>\n",
       "    </tbody></table>"
      ],
      "text/plain": [
       "<pandas.io.formats.style.Styler at 0x1d1865b0dc0>"
      ]
     },
     "execution_count": 100,
     "metadata": {},
     "output_type": "execute_result"
    }
   ],
   "source": [
    "#age demographics\n",
    "bin = [0,9.9,14.9,19.9,24.9,29.9,34.9,39.9,99.9]\n",
    "agebin = [\"<10\",\"10-14\",\"15-19\",\"20-24\",\"25-29\",\"30-34\",\"35-39\",\"40+\"]\n",
    "df[\"Age Group\"]= pd.cut(df[\"Age\"],bin,labels=agebin)\n",
    "groupbyage = df.groupby(\"Age Group\")\n",
    "totalagecount = groupbyage[\"SN\"].nunique()\n",
    "agepercent = (totalagecount/playercount) * 100\n",
    "agedf = pd.DataFrame({\"Total Count\":totalagecount,\n",
    "                     \"Percentage of Players\":agepercent})\n",
    "agedf.index.name = None\n",
    "agedf.style.format({\"Percentage of Players\":\"{:.2f}%\"})"
   ]
  },
  {
   "cell_type": "code",
   "execution_count": 113,
   "metadata": {},
   "outputs": [
    {
     "data": {
      "text/html": [
       "<style  type=\"text/css\" >\n",
       "</style><table id=\"T_1e2f7849_122a_11eb_b061_e454e825714e\" ><thead>    <tr>        <th class=\"blank level0\" ></th>        <th class=\"col_heading level0 col0\" >Purchase Count</th>        <th class=\"col_heading level0 col1\" >Average Purchase Price</th>        <th class=\"col_heading level0 col2\" >Total Purchase Value</th>        <th class=\"col_heading level0 col3\" >Avg Total Purchase per Person</th>    </tr></thead><tbody>\n",
       "                <tr>\n",
       "                        <th id=\"T_1e2f7849_122a_11eb_b061_e454e825714elevel0_row0\" class=\"row_heading level0 row0\" ><10</th>\n",
       "                        <td id=\"T_1e2f7849_122a_11eb_b061_e454e825714erow0_col0\" class=\"data row0 col0\" >23</td>\n",
       "                        <td id=\"T_1e2f7849_122a_11eb_b061_e454e825714erow0_col1\" class=\"data row0 col1\" >$3.35</td>\n",
       "                        <td id=\"T_1e2f7849_122a_11eb_b061_e454e825714erow0_col2\" class=\"data row0 col2\" >$77.13</td>\n",
       "                        <td id=\"T_1e2f7849_122a_11eb_b061_e454e825714erow0_col3\" class=\"data row0 col3\" >$4.54</td>\n",
       "            </tr>\n",
       "            <tr>\n",
       "                        <th id=\"T_1e2f7849_122a_11eb_b061_e454e825714elevel0_row1\" class=\"row_heading level0 row1\" >10-14</th>\n",
       "                        <td id=\"T_1e2f7849_122a_11eb_b061_e454e825714erow1_col0\" class=\"data row1 col0\" >28</td>\n",
       "                        <td id=\"T_1e2f7849_122a_11eb_b061_e454e825714erow1_col1\" class=\"data row1 col1\" >$2.96</td>\n",
       "                        <td id=\"T_1e2f7849_122a_11eb_b061_e454e825714erow1_col2\" class=\"data row1 col2\" >$82.78</td>\n",
       "                        <td id=\"T_1e2f7849_122a_11eb_b061_e454e825714erow1_col3\" class=\"data row1 col3\" >$3.76</td>\n",
       "            </tr>\n",
       "            <tr>\n",
       "                        <th id=\"T_1e2f7849_122a_11eb_b061_e454e825714elevel0_row2\" class=\"row_heading level0 row2\" >15-19</th>\n",
       "                        <td id=\"T_1e2f7849_122a_11eb_b061_e454e825714erow2_col0\" class=\"data row2 col0\" >136</td>\n",
       "                        <td id=\"T_1e2f7849_122a_11eb_b061_e454e825714erow2_col1\" class=\"data row2 col1\" >$3.04</td>\n",
       "                        <td id=\"T_1e2f7849_122a_11eb_b061_e454e825714erow2_col2\" class=\"data row2 col2\" >$412.89</td>\n",
       "                        <td id=\"T_1e2f7849_122a_11eb_b061_e454e825714erow2_col3\" class=\"data row2 col3\" >$3.86</td>\n",
       "            </tr>\n",
       "            <tr>\n",
       "                        <th id=\"T_1e2f7849_122a_11eb_b061_e454e825714elevel0_row3\" class=\"row_heading level0 row3\" >20-24</th>\n",
       "                        <td id=\"T_1e2f7849_122a_11eb_b061_e454e825714erow3_col0\" class=\"data row3 col0\" >365</td>\n",
       "                        <td id=\"T_1e2f7849_122a_11eb_b061_e454e825714erow3_col1\" class=\"data row3 col1\" >$3.05</td>\n",
       "                        <td id=\"T_1e2f7849_122a_11eb_b061_e454e825714erow3_col2\" class=\"data row3 col2\" >$1114.06</td>\n",
       "                        <td id=\"T_1e2f7849_122a_11eb_b061_e454e825714erow3_col3\" class=\"data row3 col3\" >$4.32</td>\n",
       "            </tr>\n",
       "            <tr>\n",
       "                        <th id=\"T_1e2f7849_122a_11eb_b061_e454e825714elevel0_row4\" class=\"row_heading level0 row4\" >25-29</th>\n",
       "                        <td id=\"T_1e2f7849_122a_11eb_b061_e454e825714erow4_col0\" class=\"data row4 col0\" >101</td>\n",
       "                        <td id=\"T_1e2f7849_122a_11eb_b061_e454e825714erow4_col1\" class=\"data row4 col1\" >$2.90</td>\n",
       "                        <td id=\"T_1e2f7849_122a_11eb_b061_e454e825714erow4_col2\" class=\"data row4 col2\" >$293.00</td>\n",
       "                        <td id=\"T_1e2f7849_122a_11eb_b061_e454e825714erow4_col3\" class=\"data row4 col3\" >$3.81</td>\n",
       "            </tr>\n",
       "            <tr>\n",
       "                        <th id=\"T_1e2f7849_122a_11eb_b061_e454e825714elevel0_row5\" class=\"row_heading level0 row5\" >30-34</th>\n",
       "                        <td id=\"T_1e2f7849_122a_11eb_b061_e454e825714erow5_col0\" class=\"data row5 col0\" >73</td>\n",
       "                        <td id=\"T_1e2f7849_122a_11eb_b061_e454e825714erow5_col1\" class=\"data row5 col1\" >$2.93</td>\n",
       "                        <td id=\"T_1e2f7849_122a_11eb_b061_e454e825714erow5_col2\" class=\"data row5 col2\" >$214.00</td>\n",
       "                        <td id=\"T_1e2f7849_122a_11eb_b061_e454e825714erow5_col3\" class=\"data row5 col3\" >$4.12</td>\n",
       "            </tr>\n",
       "            <tr>\n",
       "                        <th id=\"T_1e2f7849_122a_11eb_b061_e454e825714elevel0_row6\" class=\"row_heading level0 row6\" >35-39</th>\n",
       "                        <td id=\"T_1e2f7849_122a_11eb_b061_e454e825714erow6_col0\" class=\"data row6 col0\" >41</td>\n",
       "                        <td id=\"T_1e2f7849_122a_11eb_b061_e454e825714erow6_col1\" class=\"data row6 col1\" >$3.60</td>\n",
       "                        <td id=\"T_1e2f7849_122a_11eb_b061_e454e825714erow6_col2\" class=\"data row6 col2\" >$147.67</td>\n",
       "                        <td id=\"T_1e2f7849_122a_11eb_b061_e454e825714erow6_col3\" class=\"data row6 col3\" >$4.76</td>\n",
       "            </tr>\n",
       "            <tr>\n",
       "                        <th id=\"T_1e2f7849_122a_11eb_b061_e454e825714elevel0_row7\" class=\"row_heading level0 row7\" >40+</th>\n",
       "                        <td id=\"T_1e2f7849_122a_11eb_b061_e454e825714erow7_col0\" class=\"data row7 col0\" >13</td>\n",
       "                        <td id=\"T_1e2f7849_122a_11eb_b061_e454e825714erow7_col1\" class=\"data row7 col1\" >$2.94</td>\n",
       "                        <td id=\"T_1e2f7849_122a_11eb_b061_e454e825714erow7_col2\" class=\"data row7 col2\" >$38.24</td>\n",
       "                        <td id=\"T_1e2f7849_122a_11eb_b061_e454e825714erow7_col3\" class=\"data row7 col3\" >$3.19</td>\n",
       "            </tr>\n",
       "    </tbody></table>"
      ],
      "text/plain": [
       "<pandas.io.formats.style.Styler at 0x1d1866dee20>"
      ]
     },
     "execution_count": 113,
     "metadata": {},
     "output_type": "execute_result"
    }
   ],
   "source": [
    "#purchasing analysis (age)\n",
    "agepurcount = groupbyage[\"Purchase ID\"].count()\n",
    "ageavgpurprice = groupbyage[\"Price\"].mean()\n",
    "agetotalpur = groupbyage[\"Price\"].sum()\n",
    "ageavgperson = agetotalpur/totalagecount\n",
    "ageanalysisdf = pd.DataFrame({\"Purchase Count\":agepurcount,\n",
    "                 \"Average Purchase Price\":ageavgpurprice,\n",
    "                 \"Total Purchase Value\":agetotalpur,\n",
    "                 \"Avg Total Purchase per Person\":ageavgperson})\n",
    "ageanalysisdf.style.format({\"Average Purchase Price\":\"${:.2f}\",\n",
    "                        \"Total Purchase Value\":\"${:.2f}\",\n",
    "                        \"Avg Total Purchase per Person\":\"${:.2f}\"})"
   ]
  },
  {
   "cell_type": "code",
   "execution_count": null,
   "metadata": {},
   "outputs": [],
   "source": []
  }
 ],
 "metadata": {
  "kernelspec": {
   "display_name": "Python 3",
   "language": "python",
   "name": "python3"
  },
  "language_info": {
   "codemirror_mode": {
    "name": "ipython",
    "version": 3
   },
   "file_extension": ".py",
   "mimetype": "text/x-python",
   "name": "python",
   "nbconvert_exporter": "python",
   "pygments_lexer": "ipython3",
   "version": "3.8.3"
  }
 },
 "nbformat": 4,
 "nbformat_minor": 4
}
